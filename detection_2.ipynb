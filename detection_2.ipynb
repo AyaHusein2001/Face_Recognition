{
 "cells": [
  {
   "cell_type": "code",
   "execution_count": 1,
   "metadata": {},
   "outputs": [],
   "source": [
    "import cv2\n",
    "import numpy as np\n",
    "import matplotlib.pyplot as plt\n",
    "# from skimage import data\n",
    "%matplotlib inline\n",
    "import matplotlib.pyplot as plt\n",
    "import numpy as np"
   ]
  },
  {
   "cell_type": "code",
   "execution_count": 2,
   "metadata": {},
   "outputs": [],
   "source": [
    "detector = cv2.CascadeClassifier('lbpcascade_frontalface.xml')"
   ]
  },
  {
   "cell_type": "code",
   "execution_count": 3,
   "metadata": {},
   "outputs": [],
   "source": [
    "def detect_face(img):\n",
    "    face_img=img.copy()\n",
    "    face_rects = detector.detectMultiScale(face_img)\n",
    "    cropped_imgs=[]\n",
    "    for (x,y,w,h) in face_rects:\n",
    "        image = cv2.rectangle(face_img,(x,y),(x+w,y+h),(255,255,255),10)\n",
    "        cv2.putText(image, 'Press t to take photo', (x, y-10), cv2.FONT_HERSHEY_SIMPLEX, 0.9, (255,0,0), 2)\n",
    "        cropped_imgs.append(img[y:y+h,x:x+w])\n",
    "    return face_img , cropped_imgs\n"
   ]
  },
  {
   "cell_type": "code",
   "execution_count": 4,
   "metadata": {},
   "outputs": [],
   "source": [
    "# Put your name and enter t to take picture\n",
    "vid = cv2.VideoCapture(0)\n",
    "count = 0\n",
    "name = \"Name\"  \n",
    "while(True):\n",
    "      \n",
    "\n",
    "    ret, frame = vid.read(0)\n",
    "\n",
    "    frame , imgs =detect_face(frame)\n",
    "    cv2.imshow('frame', frame)\n",
    "    #last =cv2.cvtColor(imgs[-1],cv2.COLOR_BGR2RGB)\n",
    "    #plt.imshow(last)\n",
    "    #show_images(imgs)\n",
    "    #cv2.imwrite('img.jpg',imgs[0])\n",
    "    if (len(imgs) > 0):\n",
    "        resized_img = cv2.resize(imgs[0], (200, 200), interpolation = cv2.INTER_AREA)\n",
    "        last =cv2.cvtColor(resized_img,cv2.COLOR_BGR2GRAY)\n",
    "        if cv2.waitKey(1) & 0xFF == ord('t'):\n",
    "            cv2.imwrite('data-set/'+name+str(count)+'.jpg',last)\n",
    "            count = count + 1\n",
    "        # press q to exit\n",
    "    if cv2.waitKey(1) & 0xFF == ord('q'):\n",
    "        break\n",
    "  \n",
    "# After the loop release the cap object\n",
    "vid.release()\n",
    "# Destroy all the windows\n",
    "cv2.destroyAllWindows()"
   ]
  },
  {
   "cell_type": "code",
   "execution_count": null,
   "metadata": {},
   "outputs": [],
   "source": []
  }
 ],
 "metadata": {
  "kernelspec": {
   "display_name": "python-cvcourse",
   "language": "python",
   "name": "python3"
  },
  "language_info": {
   "codemirror_mode": {
    "name": "ipython",
    "version": 3
   },
   "file_extension": ".py",
   "mimetype": "text/x-python",
   "name": "python",
   "nbconvert_exporter": "python",
   "pygments_lexer": "ipython3",
   "version": "3.6.6"
  },
  "orig_nbformat": 4,
  "vscode": {
   "interpreter": {
    "hash": "aa27e9c382af27ffc7f95dfc851fc303a5a7c579f08f3bcde9866653f4510f4a"
   }
  }
 },
 "nbformat": 4,
 "nbformat_minor": 2
}
