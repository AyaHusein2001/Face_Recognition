{
 "cells": [
  {
   "cell_type": "code",
   "execution_count": 63,
   "metadata": {},
   "outputs": [],
   "source": [
    "import os\n",
    "import tarfile\n",
    "import shutil\n",
    "import hashlib\n",
    "import glob\n",
    "import random\n",
    "import pickle\n",
    "from datetime import datetime\n",
    "from typing import *\n",
    "from PIL import Image, ImageOps\n",
    "import numpy as np\n",
    "import matplotlib.pyplot as plt\n",
    "import cv2\n",
    "# Load libraries\n",
    "from sklearn.ensemble import AdaBoostClassifier\n",
    "from sklearn import datasets\n",
    "# Import train_test_split function\n",
    "from sklearn.model_selection import train_test_split\n",
    "#Import scikit-learn metrics module for accuracy calculation\n",
    "from sklearn import metrics\n",
    "import random\n",
    "from sklearn.metrics import accuracy_score\n",
    "from sklearn.svm import SVC\n",
    "from sklearn.feature_selection import VarianceThreshold\n",
    "from sklearn.datasets import load_iris\n",
    "from sklearn.feature_selection import SelectKBest\n",
    "from sklearn.feature_selection import chi2\n",
    "from HorizontalFeature2 import HorizontalFeature2\n",
    "from VerticalFeature2 import VerticalFeature2\n",
    "from HorizontalFeature3 import HorizontalFeature3\n",
    "from VerticalFeature3 import VerticalFeature3\n",
    "from DiagonalFeature import DiagonalFeature\n",
    "\n"
   ]
  },
  {
   "cell_type": "code",
   "execution_count": 64,
   "metadata": {},
   "outputs": [],
   "source": [
    "def display(img, cmap='gray'):\n",
    "    fig = plt.figure(figsize=(12,10))\n",
    "    ax = fig.add_subplot(111)\n",
    "    ax.imshow(img, cmap='gray')"
   ]
  },
  {
   "cell_type": "code",
   "execution_count": 65,
   "metadata": {},
   "outputs": [],
   "source": [
    "def toIntegral (img):\n",
    "    integral = np.cumsum(np.cumsum(img, axis=0), axis=1)\n",
    "    return np.pad(integral, (1, 1), 'constant', constant_values=(0, 0))[:-1, :-1]\n"
   ]
  },
  {
   "cell_type": "code",
   "execution_count": 66,
   "metadata": {},
   "outputs": [
    {
     "name": "stdout",
     "output_type": "stream",
     "text": [
      "[[ 0  0  0  0  0  0]\n",
      " [ 0  5  7 10 14 15]\n",
      " [ 0  6 13 20 26 30]\n",
      " [ 0  8 17 25 34 42]\n",
      " [ 0 11 25 39 52 65]\n",
      " [ 0 15 30 47 62 81]]\n"
     ]
    }
   ],
   "source": [
    "arr = np.array([[5,2,3,4,1],[1,5,4,2,3],[2,2,1,3,4],[3,5,6,4,5],[4,1,3,2,6]])\n",
    "integral = toIntegral(arr)\n",
    "\n",
    "print (integral)"
   ]
  },
  {
   "cell_type": "code",
   "execution_count": 67,
   "metadata": {},
   "outputs": [],
   "source": [
    "def getRegionSum (integral, x, y, width, height):\n",
    "    return (integral[y + height -1][x + width -1] + integral[y -1][x - 1] - integral[y - 1][x + width - 1] - integral[y + height -1][x - 1] )"
   ]
  },
  {
   "cell_type": "code",
   "execution_count": 68,
   "metadata": {},
   "outputs": [
    {
     "name": "stdout",
     "output_type": "stream",
     "text": [
      "81\n"
     ]
    }
   ],
   "source": [
    "#                            x      y      w  h\n",
    "sum = getRegionSum(integral, 0 + 1, 0 + 1, 5, 5)\n",
    "print (sum)"
   ]
  },
  {
   "cell_type": "code",
   "execution_count": 69,
   "metadata": {},
   "outputs": [],
   "source": [
    "WINDOW_SIZE = 15"
   ]
  },
  {
   "cell_type": "code",
   "execution_count": 70,
   "metadata": {},
   "outputs": [],
   "source": [
    "dataset_path = 'dataset'\n",
    "if not os.path.exists(dataset_path):\n",
    "    os.mkdir(dataset_path)"
   ]
  },
  {
   "cell_type": "code",
   "execution_count": 71,
   "metadata": {},
   "outputs": [],
   "source": [
    "def gammaCorrection(img, coeff):\n",
    "    return img**(1./coeff)"
   ]
  },
  {
   "cell_type": "code",
   "execution_count": 72,
   "metadata": {},
   "outputs": [],
   "source": [
    "def to_float_array(img):\n",
    "    return np.array(img).astype(np.float32) / 255."
   ]
  },
  {
   "cell_type": "code",
   "execution_count": 73,
   "metadata": {},
   "outputs": [],
   "source": [
    "def preProcessing(imgPath, resize = True):\n",
    "    img = cv2.imread(imgPath, 0)\n",
    "    resized = cv2.resize(img, (120,120), interpolation = cv2.INTER_AREA)\n",
    "    croppedImg = to_float_array(resized[20:, :])\n",
    "    # min_size = np.min(croppedImg.size)\n",
    "    # croppedImg = ImageOps.fit(croppedImg, (min_size, min_size), Image.ANTIALIAS)\n",
    "    # if resize:\n",
    "    #     croppedImg = croppedImg.resize((WINDOW_SIZE, WINDOW_SIZE), Image.ANTIALIAS)\n",
    "    return croppedImg\n"
   ]
  },
  {
   "cell_type": "code",
   "execution_count": 74,
   "metadata": {},
   "outputs": [
    {
     "data": {
      "text/plain": [
       "0"
      ]
     },
     "execution_count": 74,
     "metadata": {},
     "output_type": "execute_result"
    }
   ],
   "source": [
    "backgrounds_dir = os.path.join(dataset_path, 'iccv09Data')\n",
    "background_image_files = glob.glob(os.path.join(backgrounds_dir, '**', '*.jpg'), recursive=True)\n",
    "len(background_image_files)"
   ]
  },
  {
   "cell_type": "code",
   "execution_count": 75,
   "metadata": {},
   "outputs": [
    {
     "data": {
      "text/plain": [
       "-7"
      ]
     },
     "execution_count": 75,
     "metadata": {},
     "output_type": "execute_result"
    }
   ],
   "source": [
    "HorizontalFeature2(x = 3  , y = 1 , width=2, height=4)(integral)"
   ]
  },
  {
   "cell_type": "code",
   "execution_count": 76,
   "metadata": {},
   "outputs": [
    {
     "data": {
      "text/plain": [
       "-9"
      ]
     },
     "execution_count": 76,
     "metadata": {},
     "output_type": "execute_result"
    }
   ],
   "source": [
    "VerticalFeature2(x = 1  , y = 3 , width=3, height=2)(integral)"
   ]
  },
  {
   "cell_type": "code",
   "execution_count": 77,
   "metadata": {},
   "outputs": [
    {
     "data": {
      "text/plain": [
       "-3"
      ]
     },
     "execution_count": 77,
     "metadata": {},
     "output_type": "execute_result"
    }
   ],
   "source": [
    "HorizontalFeature3(x = 1  , y = 3 , width=3, height=2)(integral)"
   ]
  },
  {
   "cell_type": "code",
   "execution_count": 78,
   "metadata": {},
   "outputs": [
    {
     "data": {
      "text/plain": [
       "3"
      ]
     },
     "execution_count": 78,
     "metadata": {},
     "output_type": "execute_result"
    }
   ],
   "source": [
    "VerticalFeature3(x = 1  , y = 2 , width=3, height=3)(integral)"
   ]
  },
  {
   "cell_type": "code",
   "execution_count": 79,
   "metadata": {},
   "outputs": [
    {
     "data": {
      "text/plain": [
       "2"
      ]
     },
     "execution_count": 79,
     "metadata": {},
     "output_type": "execute_result"
    }
   ],
   "source": [
    "DiagonalFeature(x = 1  , y = 2 , width=2, height=2)(integral)"
   ]
  },
  {
   "cell_type": "code",
   "execution_count": 80,
   "metadata": {},
   "outputs": [],
   "source": [
    "Size = NamedTuple('Size', [('height', int), ('width', int)])\n",
    "Location = NamedTuple('Location', [('top', int), ('left', int)])"
   ]
  },
  {
   "cell_type": "code",
   "execution_count": 81,
   "metadata": {},
   "outputs": [],
   "source": [
    "def possible_position(size, window_size = WINDOW_SIZE):\n",
    "    return range(0, window_size - size + 1 , 1)"
   ]
  },
  {
   "cell_type": "code",
   "execution_count": 82,
   "metadata": {},
   "outputs": [],
   "source": [
    "def possible_locations(base_shape: Size, window_size = WINDOW_SIZE):\n",
    "    return (Location(left=x, top=y)\n",
    "            for x in possible_position(base_shape.width, window_size) \n",
    "            for y in possible_position(base_shape.height, window_size))"
   ]
  },
  {
   "cell_type": "code",
   "execution_count": 83,
   "metadata": {},
   "outputs": [],
   "source": [
    "def possible_shapes(base_shape: Size, window_size = WINDOW_SIZE):\n",
    "    base_height = base_shape.height\n",
    "    base_width = base_shape.width\n",
    "    return (Size(height=height, width=width)\n",
    "            for width in range(base_width, window_size + 1, base_width)\n",
    "            for height in range(base_height, window_size + 1, base_height))"
   ]
  },
  {
   "cell_type": "code",
   "execution_count": 84,
   "metadata": {},
   "outputs": [
    {
     "data": {
      "text/plain": [
       "[Location(top=0, left=0),\n",
       " Location(top=1, left=0),\n",
       " Location(top=0, left=1),\n",
       " Location(top=1, left=1)]"
      ]
     },
     "execution_count": 84,
     "metadata": {},
     "output_type": "execute_result"
    }
   ],
   "source": [
    "list(possible_locations(Size(4, 4), 5))"
   ]
  },
  {
   "cell_type": "code",
   "execution_count": 85,
   "metadata": {},
   "outputs": [],
   "source": [
    "faces_dir = os.path.join(dataset_path, 'faces_2')\n",
    "face_image_files = glob.glob(os.path.join(faces_dir, '**', '*.png'), recursive=True)\n",
    "\n",
    "backgrounds_dir = os.path.join(dataset_path, 'background2_2')\n",
    "background_image_files = glob.glob(os.path.join(backgrounds_dir, '**', '*.jpg'), recursive=True)\n",
    "\n",
    "# print (background_image_files)"
   ]
  },
  {
   "cell_type": "code",
   "execution_count": 86,
   "metadata": {},
   "outputs": [
    {
     "name": "stdout",
     "output_type": "stream",
     "text": [
      "dataset\\faces_2\\2012_Vermont_Rutland_Rutland_10-4.png\n",
      "dataset\\faces_2\\2012_Vermont_Rutland_Rutland_11-10.png\n",
      "dataset\\faces_2\\2012_Vermont_Rutland_Rutland_11-11.png\n",
      "dataset\\faces_2\\2012_Vermont_Rutland_Rutland_11-6.png\n",
      "dataset\\faces_2\\2012_Vermont_Rutland_Rutland_11-7.png\n",
      "dataset\\faces_2\\2012_Vermont_Rutland_Rutland_12-1.png\n",
      "dataset\\faces_2\\2012_Vermont_Rutland_Rutland_12-10.png\n",
      "dataset\\faces_2\\2012_Vermont_Rutland_Rutland_12-7.png\n",
      "dataset\\faces_2\\2012_Vermont_Rutland_Rutland_14-4.png\n",
      "dataset\\faces_2\\2012_Vermont_Rutland_Rutland_14-6.png\n",
      "dataset\\faces_2\\2012_Vermont_Rutland_Rutland_14-7.png\n",
      "dataset\\faces_2\\2012_Vermont_Rutland_Rutland_f-0-10.png\n",
      "dataset\\faces_2\\2012_Vermont_Rutland_Rutland_f-0-12.png\n",
      "dataset\\faces_2\\2012_Vermont_Rutland_Rutland_f-0-4.png\n",
      "dataset\\faces_2\\2012_Vermont_Rutland_Rutland_f-1-11.png\n",
      "dataset\\faces_2\\2012_Vermont_Rutland_Rutland_f-1-13.png\n",
      "dataset\\faces_2\\2012_Vermont_Rutland_Rutland_f-2-8.png\n",
      "dataset\\faces_2\\2012_Vermont_Rutland_Rutland_f-3-4.png\n",
      "dataset\\faces_2\\2012_Vermont_Rutland_Rutland_f-3-7.png\n",
      "dataset\\faces_2\\2012_Vermont_Rutland_Rutland_f-4-8.png\n",
      "dataset\\faces_2\\2013_California_San-Francisco_Abraham-Lincoln_1-3.png\n",
      "dataset\\faces_2\\2013_California_San-Francisco_Abraham-Lincoln_10-19.png\n",
      "dataset\\faces_2\\2013_California_San-Francisco_Abraham-Lincoln_11-6.png\n",
      "dataset\\faces_2\\2013_California_San-Francisco_Abraham-Lincoln_12-17.png\n",
      "dataset\\faces_2\\2013_California_San-Francisco_Abraham-Lincoln_16-3.png\n",
      "dataset\\faces_2\\2013_California_San-Francisco_Abraham-Lincoln_16-9.png\n",
      "dataset\\faces_2\\2013_California_San-Francisco_Abraham-Lincoln_19-10.png\n",
      "dataset\\faces_2\\2013_California_San-Francisco_Abraham-Lincoln_2-13.png\n",
      "dataset\\faces_2\\2013_California_San-Francisco_Abraham-Lincoln_20-18.png\n",
      "dataset\\faces_2\\2013_California_San-Francisco_Abraham-Lincoln_21-6.png\n",
      "dataset\\faces_2\\2013_California_San-Francisco_Abraham-Lincoln_24-8.png\n",
      "dataset\\faces_2\\2013_California_San-Francisco_Abraham-Lincoln_4-7.png\n",
      "dataset\\faces_2\\2013_California_San-Francisco_Abraham-Lincoln_6-11.png\n",
      "dataset\\faces_2\\2013_California_San-Francisco_Abraham-Lincoln_8-17.png\n",
      "dataset\\faces_2\\2013_Kansas_Kansas-City_Harmon_0-0.png\n",
      "dataset\\faces_2\\2013_Kansas_Kansas-City_Harmon_0-01.png\n",
      "dataset\\faces_2\\2013_Kansas_Kansas-City_Harmon_0-03.png\n",
      "dataset\\faces_2\\2013_Kansas_Kansas-City_Harmon_0-10.png\n",
      "dataset\\faces_2\\2013_Kansas_Kansas-City_Harmon_0-11.png\n",
      "dataset\\faces_2\\2013_Kansas_Kansas-City_Harmon_0-12.png\n",
      "dataset\\faces_2\\2013_Kansas_Kansas-City_Harmon_0-13.png\n",
      "dataset\\faces_2\\2013_Kansas_Kansas-City_Harmon_0-14.png\n",
      "dataset\\faces_2\\2013_Kansas_Kansas-City_Harmon_0-15.png\n",
      "dataset\\faces_2\\2013_Kansas_Kansas-City_Harmon_0-16.png\n",
      "dataset\\faces_2\\2013_Kansas_Kansas-City_Harmon_0-17.png\n",
      "dataset\\faces_2\\2013_Kansas_Kansas-City_Harmon_0-18.png\n",
      "dataset\\faces_2\\2013_Kansas_Kansas-City_Harmon_0-2.png\n",
      "dataset\\faces_2\\2013_Kansas_Kansas-City_Harmon_0-4.png\n",
      "dataset\\faces_2\\2013_Kansas_Kansas-City_Harmon_0-5.png\n",
      "dataset\\faces_2\\2013_Kansas_Kansas-City_Harmon_0-6.png\n",
      "dataset\\faces_2\\2013_Kansas_Kansas-City_Harmon_0-7.png\n",
      "dataset\\faces_2\\2013_Kansas_Kansas-City_Harmon_0-9.png\n",
      "dataset\\faces_2\\2013_Kansas_Kansas-City_Harmon_1-00.png\n",
      "dataset\\faces_2\\2013_Kansas_Kansas-City_Harmon_1-02.png\n",
      "dataset\\faces_2\\2013_Kansas_Kansas-City_Harmon_1-03.png\n",
      "dataset\\faces_2\\2013_Kansas_Kansas-City_Harmon_1-04.png\n",
      "dataset\\faces_2\\2013_Kansas_Kansas-City_Harmon_1-06.png\n",
      "dataset\\faces_2\\2013_Kansas_Kansas-City_Harmon_1-2.png\n",
      "dataset\\faces_2\\2013_Kansas_Kansas-City_Harmon_1-6.png\n",
      "dataset\\faces_2\\2013_Kansas_Kansas-City_Harmon_1-7.png\n",
      "dataset\\faces_2\\2013_Kansas_Kansas-City_Harmon_1-8.png\n",
      "dataset\\faces_2\\2013_Kansas_Kansas-City_Harmon_1-9.png\n",
      "dataset\\faces_2\\2013_Kansas_Kansas-City_Harmon_2-0.png\n",
      "dataset\\faces_2\\2013_Kansas_Kansas-City_Harmon_2-00.png\n",
      "dataset\\faces_2\\2013_Kansas_Kansas-City_Harmon_2-10.png\n",
      "dataset\\faces_2\\2013_Kansas_Kansas-City_Harmon_2-11.png\n",
      "dataset\\faces_2\\2013_Kansas_Kansas-City_Harmon_2-12.png\n",
      "dataset\\faces_2\\2013_Kansas_Kansas-City_Harmon_2-14.png\n",
      "dataset\\faces_2\\2013_Kansas_Kansas-City_Harmon_2-2.png\n",
      "dataset\\faces_2\\2013_Kansas_Kansas-City_Harmon_2-3.png\n",
      "dataset\\faces_2\\2013_Kansas_Kansas-City_Harmon_2-4.png\n",
      "dataset\\faces_2\\2013_Kansas_Kansas-City_Harmon_2-6.png\n",
      "dataset\\faces_2\\2013_Kansas_Kansas-City_Harmon_2-7.png\n",
      "dataset\\faces_2\\2013_Kansas_Kansas-City_Harmon_2-8.png\n",
      "dataset\\faces_2\\2013_Kansas_Kansas-City_Harmon_2-9.png\n",
      "dataset\\faces_2\\2013_Kansas_Kansas-City_Harmon_3-0.png\n",
      "dataset\\faces_2\\2013_Kansas_Kansas-City_Harmon_3-00.png\n",
      "dataset\\faces_2\\2013_Kansas_Kansas-City_Harmon_3-10.png\n",
      "dataset\\faces_2\\2013_Kansas_Kansas-City_Harmon_3-11.png\n",
      "dataset\\faces_2\\2013_Kansas_Kansas-City_Harmon_3-13.png\n",
      "dataset\\faces_2\\2013_Kansas_Kansas-City_Harmon_3-15.png\n",
      "dataset\\faces_2\\2013_Kansas_Kansas-City_Harmon_3-16.png\n",
      "dataset\\faces_2\\2013_Kansas_Kansas-City_Harmon_3-18.png\n",
      "dataset\\faces_2\\2013_Kansas_Kansas-City_Harmon_3-2.png\n",
      "dataset\\faces_2\\2013_Kansas_Kansas-City_Harmon_3-3.png\n",
      "dataset\\faces_2\\2013_Kansas_Kansas-City_Harmon_3-6.png\n",
      "dataset\\faces_2\\2013_Kansas_Kansas-City_Harmon_3-7.png\n",
      "dataset\\faces_2\\2013_Kansas_Kansas-City_Harmon_3-8.png\n",
      "dataset\\faces_2\\2013_Kansas_Kansas-City_Harmon_4-00.png\n",
      "dataset\\faces_2\\2013_Kansas_Kansas-City_Harmon_4-10.png\n",
      "dataset\\faces_2\\2013_Kansas_Kansas-City_Harmon_4-11.png\n",
      "dataset\\faces_2\\2013_Kansas_Kansas-City_Harmon_4-12.png\n",
      "dataset\\faces_2\\2013_Kansas_Kansas-City_Harmon_4-13.png\n",
      "dataset\\faces_2\\2013_Kansas_Kansas-City_Harmon_4-15.png\n",
      "dataset\\faces_2\\2013_Kansas_Kansas-City_Harmon_4-16.png\n",
      "dataset\\faces_2\\2013_Kansas_Kansas-City_Harmon_4-17.png\n",
      "dataset\\faces_2\\2013_Kansas_Kansas-City_Harmon_4-18.png\n",
      "dataset\\faces_2\\2013_Kansas_Kansas-City_Harmon_4-19.png\n",
      "dataset\\faces_2\\2013_Kansas_Kansas-City_Harmon_4-21.png\n",
      "dataset\\faces_2\\2013_Kansas_Kansas-City_Harmon_4-22.png\n",
      "dataset\\faces_2\\2013_Kansas_Kansas-City_Harmon_4-3.png\n",
      "dataset\\faces_2\\2013_Kansas_Kansas-City_Harmon_4-5.png\n",
      "dataset\\faces_2\\2013_Kansas_Kansas-City_Harmon_4-6.png\n",
      "dataset\\faces_2\\2013_Kansas_Kansas-City_Harmon_4-8.png\n",
      "dataset\\faces_2\\2013_Kansas_Kansas-City_Harmon_f-0-0.png\n",
      "dataset\\faces_2\\2013_Kansas_Kansas-City_Harmon_f-0-1.png\n",
      "dataset\\faces_2\\2013_Kansas_Kansas-City_Harmon_f-0-10.png\n",
      "dataset\\faces_2\\2013_Kansas_Kansas-City_Harmon_f-0-12.png\n",
      "dataset\\faces_2\\2013_Kansas_Kansas-City_Harmon_f-0-14.png\n",
      "dataset\\faces_2\\2013_Kansas_Kansas-City_Harmon_f-0-15.png\n",
      "dataset\\faces_2\\2013_Kansas_Kansas-City_Harmon_f-0-16.png\n",
      "dataset\\faces_2\\2013_Kansas_Kansas-City_Harmon_f-0-17.png\n",
      "dataset\\faces_2\\2013_Kansas_Kansas-City_Harmon_f-0-19.png\n",
      "dataset\\faces_2\\2013_Kansas_Kansas-City_Harmon_f-0-2.png\n",
      "dataset\\faces_2\\2013_Kansas_Kansas-City_Harmon_f-0-20.png\n",
      "dataset\\faces_2\\2013_Kansas_Kansas-City_Harmon_f-0-21.png\n",
      "dataset\\faces_2\\2013_Kansas_Kansas-City_Harmon_f-0-22.png\n",
      "dataset\\faces_2\\2013_Kansas_Kansas-City_Harmon_f-0-23.png\n",
      "dataset\\faces_2\\2013_Kansas_Kansas-City_Harmon_f-0-3.png\n",
      "dataset\\faces_2\\2013_Kansas_Kansas-City_Harmon_f-0-7.png\n",
      "dataset\\faces_2\\2013_Kansas_Kansas-City_Harmon_f-0-8.png\n",
      "dataset\\faces_2\\2013_Kansas_Kansas-City_Harmon_f-0-9.png\n",
      "dataset\\faces_2\\2013_Kansas_Kansas-City_Harmon_f-1-10.png\n",
      "dataset\\faces_2\\2013_Kansas_Kansas-City_Harmon_f-1-11.png\n",
      "dataset\\faces_2\\2013_Kansas_Kansas-City_Harmon_f-1-14.png\n",
      "dataset\\faces_2\\2013_Kansas_Kansas-City_Harmon_f-1-17.png\n",
      "dataset\\faces_2\\2013_Kansas_Kansas-City_Harmon_f-1-18.png\n",
      "dataset\\faces_2\\2013_Kansas_Kansas-City_Harmon_f-1-19.png\n",
      "dataset\\faces_2\\2013_Kansas_Kansas-City_Harmon_f-1-21.png\n",
      "dataset\\faces_2\\2013_Kansas_Kansas-City_Harmon_f-1-3.png\n",
      "dataset\\faces_2\\2013_Kansas_Kansas-City_Harmon_f-1-4.png\n",
      "dataset\\faces_2\\2013_Kansas_Kansas-City_Harmon_f-1-5.png\n",
      "dataset\\faces_2\\2013_Kansas_Kansas-City_Harmon_f-1-8.png\n",
      "dataset\\faces_2\\2013_Kansas_Kansas-City_Harmon_f-2-1.png\n",
      "dataset\\faces_2\\2013_Kansas_Kansas-City_Harmon_f-2-10.png\n",
      "dataset\\faces_2\\2013_Kansas_Kansas-City_Harmon_f-2-11.png\n",
      "dataset\\faces_2\\2013_Kansas_Kansas-City_Harmon_f-2-12.png\n",
      "dataset\\faces_2\\2013_Kansas_Kansas-City_Harmon_f-2-13.png\n",
      "dataset\\faces_2\\2013_Kansas_Kansas-City_Harmon_f-2-17.png\n",
      "dataset\\faces_2\\2013_Kansas_Kansas-City_Harmon_f-2-18.png\n",
      "dataset\\faces_2\\2013_Kansas_Kansas-City_Harmon_f-2-2.png\n",
      "dataset\\faces_2\\2013_Kansas_Kansas-City_Harmon_f-2-6.png\n",
      "dataset\\faces_2\\2013_Kansas_Kansas-City_Harmon_f-2-8.png\n",
      "dataset\\faces_2\\2013_Kansas_Kansas-City_Harmon_f-3-10.png\n",
      "dataset\\faces_2\\2013_Kansas_Kansas-City_Harmon_f-3-11.png\n",
      "dataset\\faces_2\\2013_Kansas_Kansas-City_Harmon_f-3-14.png\n",
      "dataset\\faces_2\\2013_Kansas_Kansas-City_Harmon_f-3-15.png\n",
      "dataset\\faces_2\\2013_Kansas_Kansas-City_Harmon_f-3-16.png\n",
      "dataset\\faces_2\\2013_Kansas_Kansas-City_Harmon_f-3-2.png\n",
      "dataset\\faces_2\\2013_Kansas_Kansas-City_Harmon_f-3-3.png\n",
      "dataset\\faces_2\\2013_Kansas_Kansas-City_Harmon_f-3-4.png\n",
      "dataset\\faces_2\\2013_Kansas_Kansas-City_Harmon_f-3-5.png\n",
      "dataset\\faces_2\\2013_Kansas_Kansas-City_Harmon_f-3-8.png\n",
      "dataset\\faces_2\\2013_Kansas_Kansas-City_Harmon_f-3-9.png\n",
      "dataset\\faces_2\\2013_Kansas_Kansas-City_Harmon_f-4-0.png\n",
      "dataset\\faces_2\\2013_Kansas_Kansas-City_Harmon_f-4-1.png\n",
      "dataset\\faces_2\\2013_Kansas_Kansas-City_Harmon_f-4-10.png\n",
      "dataset\\faces_2\\2013_Kansas_Kansas-City_Harmon_f-4-11.png\n",
      "dataset\\faces_2\\2013_Kansas_Kansas-City_Harmon_f-4-12.png\n",
      "dataset\\faces_2\\2013_Kansas_Kansas-City_Harmon_f-4-13.png\n",
      "dataset\\faces_2\\2013_Kansas_Kansas-City_Harmon_f-4-15.png\n",
      "dataset\\faces_2\\2013_Kansas_Kansas-City_Harmon_f-4-16.png\n",
      "dataset\\faces_2\\2013_Kansas_Kansas-City_Harmon_f-4-2.png\n",
      "dataset\\faces_2\\2013_Kansas_Kansas-City_Harmon_f-4-5.png\n",
      "dataset\\faces_2\\2013_Kansas_Kansas-City_Harmon_f-4-6.png\n",
      "dataset\\faces_2\\2013_Kansas_Kansas-City_Harmon_f-4-8.png\n",
      "dataset\\faces_2\\2013_Kansas_Kansas-City_Harmon_f-4-9.png\n",
      "dataset\\faces_2\\2013_Kansas_Kansas-City_Harmon_f-5-1.png\n",
      "dataset\\faces_2\\2013_Kansas_Kansas-City_Harmon_f-5-10.png\n",
      "dataset\\faces_2\\2013_Kansas_Kansas-City_Harmon_f-5-11.png\n",
      "dataset\\faces_2\\2013_Kansas_Kansas-City_Harmon_f-5-12.png\n",
      "dataset\\faces_2\\2013_Kansas_Kansas-City_Harmon_f-5-13.png\n",
      "dataset\\faces_2\\2013_Kansas_Kansas-City_Harmon_f-5-15.png\n",
      "dataset\\faces_2\\2013_Kansas_Kansas-City_Harmon_f-5-17.png\n",
      "dataset\\faces_2\\2013_Kansas_Kansas-City_Harmon_f-5-19.png\n",
      "dataset\\faces_2\\2013_Kansas_Kansas-City_Harmon_f-5-2.png\n",
      "dataset\\faces_2\\2013_Kansas_Kansas-City_Harmon_f-5-3.png\n",
      "dataset\\faces_2\\2013_Kansas_Kansas-City_Harmon_f-5-6.png\n",
      "dataset\\faces_2\\2013_Kansas_Kansas-City_Harmon_f-5-7.png\n",
      "dataset\\faces_2\\2013_Kansas_Kansas-City_Harmon_f-6-0.png\n",
      "dataset\\faces_2\\2013_Kansas_Kansas-City_Harmon_f-6-10.png\n",
      "dataset\\faces_2\\2013_Kansas_Kansas-City_Harmon_f-6-11.png\n",
      "dataset\\faces_2\\2013_Kansas_Kansas-City_Harmon_f-6-12.png\n",
      "dataset\\faces_2\\2013_Kansas_Kansas-City_Harmon_f-6-13.png\n",
      "dataset\\faces_2\\2013_Kansas_Kansas-City_Harmon_f-6-14.png\n",
      "dataset\\faces_2\\2013_Kansas_Kansas-City_Harmon_f-6-16.png\n",
      "dataset\\faces_2\\2013_Kansas_Kansas-City_Harmon_f-6-17.png\n",
      "dataset\\faces_2\\2013_Kansas_Kansas-City_Harmon_f-6-18.png\n",
      "dataset\\faces_2\\2013_Kansas_Kansas-City_Harmon_f-6-19.png\n",
      "dataset\\faces_2\\2013_Kansas_Kansas-City_Harmon_f-6-20.png\n",
      "dataset\\faces_2\\2013_Kansas_Kansas-City_Harmon_f-6-22.png\n",
      "dataset\\faces_2\\2013_Kansas_Kansas-City_Harmon_f-6-23.png\n",
      "dataset\\faces_2\\2013_Kansas_Kansas-City_Harmon_f-6-3.png\n",
      "dataset\\faces_2\\2013_Kansas_Kansas-City_Harmon_f-6-5.png\n",
      "dataset\\faces_2\\2013_Kansas_Kansas-City_Harmon_f-6-6.png\n",
      "dataset\\faces_2\\2013_Kansas_Kansas-City_Harmon_f-6-8.png\n",
      "dataset\\faces_2\\2013_Kansas_Kansas-City_Harmon_f-7-0.png\n",
      "dataset\\faces_2\\2013_Kansas_Kansas-City_Harmon_f-7-1.png\n",
      "dataset\\faces_2\\2013_Kansas_Kansas-City_Harmon_f-7-11.png\n",
      "dataset\\faces_2\\2013_Kansas_Kansas-City_Harmon_f-7-12.png\n",
      "dataset\\faces_2\\2013_Kansas_Kansas-City_Harmon_f-7-13.png\n",
      "dataset\\faces_2\\2013_Kansas_Kansas-City_Harmon_f-7-14.png\n",
      "dataset\\faces_2\\2013_Kansas_Kansas-City_Harmon_f-7-15.png\n",
      "dataset\\faces_2\\2013_Kansas_Kansas-City_Harmon_f-7-17.png\n",
      "dataset\\faces_2\\2013_Kansas_Kansas-City_Harmon_f-7-4.png\n",
      "dataset\\faces_2\\2013_Kansas_Kansas-City_Harmon_f-7-5.png\n",
      "dataset\\faces_2\\2013_Kansas_Kansas-City_Harmon_f-7-6.png\n",
      "dataset\\faces_2\\2013_Kansas_Kansas-City_Harmon_f-7-7.png\n",
      "dataset\\faces_2\\2013_Kansas_Kansas-City_Harmon_f-7-9.png\n",
      "dataset\\faces_2\\2013_Virginia_Arlington_Washington-Lee_0-00.png\n",
      "dataset\\faces_2\\2013_Virginia_Arlington_Washington-Lee_0-03.png\n",
      "dataset\\faces_2\\2013_Virginia_Arlington_Washington-Lee_0-1.png\n",
      "dataset\\faces_2\\2013_Virginia_Arlington_Washington-Lee_0-10.png\n",
      "dataset\\faces_2\\2013_Virginia_Arlington_Washington-Lee_0-11.png\n",
      "dataset\\faces_2\\2013_Virginia_Arlington_Washington-Lee_0-2.png\n",
      "dataset\\faces_2\\2013_Virginia_Arlington_Washington-Lee_0-3.png\n",
      "dataset\\faces_2\\2013_Virginia_Arlington_Washington-Lee_0-4.png\n",
      "dataset\\faces_2\\2013_Virginia_Arlington_Washington-Lee_0-5.png\n",
      "dataset\\faces_2\\2013_Virginia_Arlington_Washington-Lee_0-6.png\n",
      "dataset\\faces_2\\2013_Virginia_Arlington_Washington-Lee_0-7.png\n",
      "dataset\\faces_2\\2013_Virginia_Arlington_Washington-Lee_1-00.png\n",
      "dataset\\faces_2\\2013_Virginia_Arlington_Washington-Lee_1-01.png\n",
      "dataset\\faces_2\\2013_Virginia_Arlington_Washington-Lee_1-04.png\n",
      "dataset\\faces_2\\2013_Virginia_Arlington_Washington-Lee_1-06.png\n",
      "dataset\\faces_2\\2013_Virginia_Arlington_Washington-Lee_1-07.png\n",
      "dataset\\faces_2\\2013_Virginia_Arlington_Washington-Lee_1-3.png\n",
      "dataset\\faces_2\\2013_Virginia_Arlington_Washington-Lee_1-4.png\n",
      "dataset\\faces_2\\2013_Virginia_Arlington_Washington-Lee_1-6.png\n",
      "dataset\\faces_2\\2013_Virginia_Arlington_Washington-Lee_1-7.png\n",
      "dataset\\faces_2\\2013_Virginia_Arlington_Washington-Lee_10-01.png\n",
      "dataset\\faces_2\\2013_Virginia_Arlington_Washington-Lee_10-02.png\n",
      "dataset\\faces_2\\2013_Virginia_Arlington_Washington-Lee_10-03.png\n",
      "dataset\\faces_2\\2013_Virginia_Arlington_Washington-Lee_10-05.png\n",
      "dataset\\faces_2\\2013_Virginia_Arlington_Washington-Lee_10-06.png\n",
      "dataset\\faces_2\\2013_Virginia_Arlington_Washington-Lee_10-07.png\n",
      "dataset\\faces_2\\2013_Virginia_Arlington_Washington-Lee_10-4.png\n",
      "dataset\\faces_2\\2013_Virginia_Arlington_Washington-Lee_10-5.png\n",
      "dataset\\faces_2\\2013_Virginia_Arlington_Washington-Lee_11-0.png\n",
      "dataset\\faces_2\\2013_Virginia_Arlington_Washington-Lee_11-02.png\n",
      "dataset\\faces_2\\2013_Virginia_Arlington_Washington-Lee_11-03.png\n",
      "dataset\\faces_2\\2013_Virginia_Arlington_Washington-Lee_11-1.png\n",
      "dataset\\faces_2\\2013_Virginia_Arlington_Washington-Lee_11-10.png\n",
      "dataset\\faces_2\\2013_Virginia_Arlington_Washington-Lee_11-3.png\n",
      "dataset\\faces_2\\2013_Virginia_Arlington_Washington-Lee_11-4.png\n",
      "dataset\\faces_2\\2013_Virginia_Arlington_Washington-Lee_11-7.png\n",
      "dataset\\faces_2\\2013_Virginia_Arlington_Washington-Lee_11-8.png\n",
      "dataset\\faces_2\\2013_Virginia_Arlington_Washington-Lee_11-9.png\n",
      "dataset\\faces_2\\2013_Virginia_Arlington_Washington-Lee_12-00.png\n",
      "dataset\\faces_2\\2013_Virginia_Arlington_Washington-Lee_12-01.png\n",
      "dataset\\faces_2\\2013_Virginia_Arlington_Washington-Lee_12-02.png\n",
      "dataset\\faces_2\\2013_Virginia_Arlington_Washington-Lee_12-03.png\n",
      "dataset\\faces_2\\2013_Virginia_Arlington_Washington-Lee_12-05.png\n",
      "dataset\\faces_2\\2013_Virginia_Arlington_Washington-Lee_12-10.png\n",
      "dataset\\faces_2\\2013_Virginia_Arlington_Washington-Lee_12-3.png\n",
      "dataset\\faces_2\\2013_Virginia_Arlington_Washington-Lee_12-4.png\n",
      "dataset\\faces_2\\2013_Virginia_Arlington_Washington-Lee_12-5.png\n",
      "dataset\\faces_2\\2013_Virginia_Arlington_Washington-Lee_12-9.png\n",
      "dataset\\faces_2\\2013_Virginia_Arlington_Washington-Lee_13-00.png\n",
      "dataset\\faces_2\\2013_Virginia_Arlington_Washington-Lee_13-01.png\n",
      "dataset\\faces_2\\2013_Virginia_Arlington_Washington-Lee_13-02.png\n",
      "dataset\\faces_2\\2013_Virginia_Arlington_Washington-Lee_13-03.png\n",
      "dataset\\faces_2\\2013_Virginia_Arlington_Washington-Lee_13-04.png\n",
      "dataset\\faces_2\\2013_Virginia_Arlington_Washington-Lee_13-10.png\n",
      "dataset\\faces_2\\2013_Virginia_Arlington_Washington-Lee_13-11.png\n",
      "dataset\\faces_2\\2013_Virginia_Arlington_Washington-Lee_13-12.png\n",
      "dataset\\faces_2\\2013_Virginia_Arlington_Washington-Lee_13-13.png\n",
      "dataset\\faces_2\\2013_Virginia_Arlington_Washington-Lee_13-4.png\n",
      "dataset\\faces_2\\2013_Virginia_Arlington_Washington-Lee_13-5.png\n",
      "dataset\\faces_2\\2013_Virginia_Arlington_Washington-Lee_13-6.png\n",
      "dataset\\faces_2\\2013_Virginia_Arlington_Washington-Lee_14-01.png\n",
      "dataset\\faces_2\\2013_Virginia_Arlington_Washington-Lee_14-03.png\n",
      "dataset\\faces_2\\2013_Virginia_Arlington_Washington-Lee_14-04.png\n",
      "dataset\\faces_2\\2013_Virginia_Arlington_Washington-Lee_14-1.png\n",
      "dataset\\faces_2\\2013_Virginia_Arlington_Washington-Lee_14-3.png\n",
      "dataset\\faces_2\\2013_Virginia_Arlington_Washington-Lee_14-5.png\n",
      "dataset\\faces_2\\2013_Virginia_Arlington_Washington-Lee_14-7.png\n",
      "dataset\\faces_2\\2013_Virginia_Arlington_Washington-Lee_14-8.png\n",
      "dataset\\faces_2\\2013_Virginia_Arlington_Washington-Lee_15-02.png\n",
      "dataset\\faces_2\\2013_Virginia_Arlington_Washington-Lee_15-03.png\n",
      "dataset\\faces_2\\2013_Virginia_Arlington_Washington-Lee_15-04.png\n",
      "dataset\\faces_2\\2013_Virginia_Arlington_Washington-Lee_15-05.png\n",
      "dataset\\faces_2\\2013_Virginia_Arlington_Washington-Lee_15-07.png\n",
      "dataset\\faces_2\\2013_Virginia_Arlington_Washington-Lee_15-2.png\n",
      "dataset\\faces_2\\2013_Virginia_Arlington_Washington-Lee_15-3.png\n",
      "dataset\\faces_2\\2013_Virginia_Arlington_Washington-Lee_15-4.png\n",
      "dataset\\faces_2\\2013_Virginia_Arlington_Washington-Lee_15-5.png\n",
      "dataset\\faces_2\\2013_Virginia_Arlington_Washington-Lee_15-6.png\n",
      "dataset\\faces_2\\2013_Virginia_Arlington_Washington-Lee_15-7.png\n",
      "dataset\\faces_2\\2013_Virginia_Arlington_Washington-Lee_16-01.png\n",
      "dataset\\faces_2\\2013_Virginia_Arlington_Washington-Lee_16-02.png\n",
      "dataset\\faces_2\\2013_Virginia_Arlington_Washington-Lee_16-03.png\n",
      "dataset\\faces_2\\2013_Virginia_Arlington_Washington-Lee_16-04.png\n",
      "dataset\\faces_2\\2013_Virginia_Arlington_Washington-Lee_16-05.png\n",
      "dataset\\faces_2\\2013_Virginia_Arlington_Washington-Lee_16-1.png\n",
      "dataset\\faces_2\\2013_Virginia_Arlington_Washington-Lee_16-2.png\n",
      "dataset\\faces_2\\2013_Virginia_Arlington_Washington-Lee_16-3.png\n",
      "dataset\\faces_2\\2013_Virginia_Arlington_Washington-Lee_16-4.png\n",
      "dataset\\faces_2\\2013_Virginia_Arlington_Washington-Lee_16-5.png\n",
      "dataset\\faces_2\\2013_Virginia_Arlington_Washington-Lee_16-6.png\n",
      "dataset\\faces_2\\2013_Virginia_Arlington_Washington-Lee_16-7.png\n",
      "dataset\\faces_2\\2013_Virginia_Arlington_Washington-Lee_16-8.png\n",
      "dataset\\faces_2\\2013_Virginia_Arlington_Washington-Lee_17-0.png\n",
      "dataset\\faces_2\\2013_Virginia_Arlington_Washington-Lee_17-00.png\n",
      "dataset\\faces_2\\2013_Virginia_Arlington_Washington-Lee_17-01.png\n",
      "dataset\\faces_2\\2013_Virginia_Arlington_Washington-Lee_17-02.png\n",
      "dataset\\faces_2\\2013_Virginia_Arlington_Washington-Lee_17-03.png\n",
      "dataset\\faces_2\\2013_Virginia_Arlington_Washington-Lee_17-04.png\n",
      "dataset\\faces_2\\2013_Virginia_Arlington_Washington-Lee_17-05.png\n",
      "dataset\\faces_2\\2013_Virginia_Arlington_Washington-Lee_17-06.png\n",
      "dataset\\faces_2\\2013_Virginia_Arlington_Washington-Lee_17-07.png\n",
      "dataset\\faces_2\\2013_Virginia_Arlington_Washington-Lee_17-1.png\n",
      "dataset\\faces_2\\2013_Virginia_Arlington_Washington-Lee_17-2.png\n",
      "dataset\\faces_2\\2013_Virginia_Arlington_Washington-Lee_17-3.png\n",
      "dataset\\faces_2\\2013_Virginia_Arlington_Washington-Lee_17-4.png\n",
      "dataset\\faces_2\\2013_Virginia_Arlington_Washington-Lee_18-00.png\n",
      "dataset\\faces_2\\2013_Virginia_Arlington_Washington-Lee_18-01.png\n",
      "dataset\\faces_2\\2013_Virginia_Arlington_Washington-Lee_18-03.png\n",
      "dataset\\faces_2\\2013_Virginia_Arlington_Washington-Lee_18-04.png\n",
      "dataset\\faces_2\\2013_Virginia_Arlington_Washington-Lee_18-05.png\n",
      "dataset\\faces_2\\2013_Virginia_Arlington_Washington-Lee_18-2.png\n",
      "dataset\\faces_2\\2013_Virginia_Arlington_Washington-Lee_18-3.png\n",
      "dataset\\faces_2\\2013_Virginia_Arlington_Washington-Lee_18-4.png\n",
      "dataset\\faces_2\\2013_Virginia_Arlington_Washington-Lee_18-7.png\n",
      "dataset\\faces_2\\2013_Virginia_Arlington_Washington-Lee_18-8.png\n",
      "dataset\\faces_2\\2013_Virginia_Arlington_Washington-Lee_18-9.png\n",
      "dataset\\faces_2\\2013_Virginia_Arlington_Washington-Lee_19-00.png\n",
      "dataset\\faces_2\\2013_Virginia_Arlington_Washington-Lee_19-01.png\n",
      "dataset\\faces_2\\2013_Virginia_Arlington_Washington-Lee_19-02.png\n",
      "dataset\\faces_2\\2013_Virginia_Arlington_Washington-Lee_19-03.png\n",
      "dataset\\faces_2\\2013_Virginia_Arlington_Washington-Lee_19-10.png\n",
      "dataset\\faces_2\\2013_Virginia_Arlington_Washington-Lee_19-2.png\n",
      "dataset\\faces_2\\2013_Virginia_Arlington_Washington-Lee_19-3.png\n",
      "dataset\\faces_2\\2013_Virginia_Arlington_Washington-Lee_19-4.png\n",
      "dataset\\faces_2\\2013_Virginia_Arlington_Washington-Lee_19-5.png\n",
      "dataset\\faces_2\\2013_Virginia_Arlington_Washington-Lee_19-8.png\n",
      "dataset\\faces_2\\2013_Virginia_Arlington_Washington-Lee_2-0.png\n",
      "dataset\\faces_2\\2013_Virginia_Arlington_Washington-Lee_2-00.png\n",
      "dataset\\faces_2\\2013_Virginia_Arlington_Washington-Lee_2-05.png\n",
      "dataset\\faces_2\\2013_Virginia_Arlington_Washington-Lee_2-06.png\n",
      "dataset\\faces_2\\2013_Virginia_Arlington_Washington-Lee_2-07.png\n",
      "dataset\\faces_2\\2013_Virginia_Arlington_Washington-Lee_2-1.png\n",
      "dataset\\faces_2\\2013_Virginia_Arlington_Washington-Lee_2-2.png\n",
      "dataset\\faces_2\\2013_Virginia_Arlington_Washington-Lee_2-3.png\n",
      "dataset\\faces_2\\2013_Virginia_Arlington_Washington-Lee_2-4.png\n",
      "dataset\\faces_2\\2013_Virginia_Arlington_Washington-Lee_20-00.png\n",
      "dataset\\faces_2\\2013_Virginia_Arlington_Washington-Lee_20-01.png\n",
      "dataset\\faces_2\\2013_Virginia_Arlington_Washington-Lee_20-02.png\n",
      "dataset\\faces_2\\2013_Virginia_Arlington_Washington-Lee_20-03.png\n",
      "dataset\\faces_2\\2013_Virginia_Arlington_Washington-Lee_20-05.png\n",
      "dataset\\faces_2\\2013_Virginia_Arlington_Washington-Lee_20-06.png\n",
      "dataset\\faces_2\\2013_Virginia_Arlington_Washington-Lee_20-10.png\n",
      "dataset\\faces_2\\2013_Virginia_Arlington_Washington-Lee_20-7.png\n",
      "dataset\\faces_2\\2013_Virginia_Arlington_Washington-Lee_20-8.png\n",
      "dataset\\faces_2\\2013_Virginia_Arlington_Washington-Lee_21-0.png\n",
      "dataset\\faces_2\\2013_Virginia_Arlington_Washington-Lee_21-00.png\n",
      "dataset\\faces_2\\2013_Virginia_Arlington_Washington-Lee_21-01.png\n",
      "dataset\\faces_2\\2013_Virginia_Arlington_Washington-Lee_21-02.png\n",
      "dataset\\faces_2\\2013_Virginia_Arlington_Washington-Lee_21-04.png\n",
      "dataset\\faces_2\\2013_Virginia_Arlington_Washington-Lee_21-1.png\n",
      "dataset\\faces_2\\2013_Virginia_Arlington_Washington-Lee_21-2.png\n",
      "dataset\\faces_2\\2013_Virginia_Arlington_Washington-Lee_21-3.png\n",
      "dataset\\faces_2\\2013_Virginia_Arlington_Washington-Lee_21-4.png\n",
      "dataset\\faces_2\\2013_Virginia_Arlington_Washington-Lee_21-5.png\n",
      "dataset\\faces_2\\2013_Virginia_Arlington_Washington-Lee_21-6.png\n",
      "dataset\\faces_2\\2013_Virginia_Arlington_Washington-Lee_21-7.png\n",
      "dataset\\faces_2\\2013_Virginia_Arlington_Washington-Lee_21-8.png\n",
      "dataset\\faces_2\\2013_Virginia_Arlington_Washington-Lee_22-00.png\n",
      "dataset\\faces_2\\2013_Virginia_Arlington_Washington-Lee_22-02.png\n",
      "dataset\\faces_2\\2013_Virginia_Arlington_Washington-Lee_22-04.png\n",
      "dataset\\faces_2\\2013_Virginia_Arlington_Washington-Lee_22-05.png\n",
      "dataset\\faces_2\\2013_Virginia_Arlington_Washington-Lee_22-07.png\n",
      "dataset\\faces_2\\2013_Virginia_Arlington_Washington-Lee_22-3.png\n",
      "dataset\\faces_2\\2013_Virginia_Arlington_Washington-Lee_22-6.png\n",
      "dataset\\faces_2\\2013_Virginia_Arlington_Washington-Lee_23-00.png\n",
      "dataset\\faces_2\\2013_Virginia_Arlington_Washington-Lee_23-01.png\n",
      "dataset\\faces_2\\2013_Virginia_Arlington_Washington-Lee_23-02.png\n",
      "dataset\\faces_2\\2013_Virginia_Arlington_Washington-Lee_23-03.png\n",
      "dataset\\faces_2\\2013_Virginia_Arlington_Washington-Lee_23-04.png\n",
      "dataset\\faces_2\\2013_Virginia_Arlington_Washington-Lee_23-05.png\n",
      "dataset\\faces_2\\2013_Virginia_Arlington_Washington-Lee_23-07.png\n",
      "dataset\\faces_2\\2013_Virginia_Arlington_Washington-Lee_23-08.png\n",
      "dataset\\faces_2\\2013_Virginia_Arlington_Washington-Lee_23-2.png\n",
      "dataset\\faces_2\\2013_Virginia_Arlington_Washington-Lee_23-3.png\n",
      "dataset\\faces_2\\2013_Virginia_Arlington_Washington-Lee_23-4.png\n",
      "dataset\\faces_2\\2013_Virginia_Arlington_Washington-Lee_23-5.png\n",
      "dataset\\faces_2\\2013_Virginia_Arlington_Washington-Lee_23-6.png\n",
      "dataset\\faces_2\\2013_Virginia_Arlington_Washington-Lee_24-00.png\n",
      "dataset\\faces_2\\2013_Virginia_Arlington_Washington-Lee_24-02.png\n",
      "dataset\\faces_2\\2013_Virginia_Arlington_Washington-Lee_24-03.png\n",
      "dataset\\faces_2\\2013_Virginia_Arlington_Washington-Lee_24-04.png\n",
      "dataset\\faces_2\\2013_Virginia_Arlington_Washington-Lee_24-05.png\n",
      "dataset\\faces_2\\2013_Virginia_Arlington_Washington-Lee_24-07.png\n",
      "dataset\\faces_2\\2013_Virginia_Arlington_Washington-Lee_24-09.png\n",
      "dataset\\faces_2\\2013_Virginia_Arlington_Washington-Lee_24-4.png\n",
      "dataset\\faces_2\\2013_Virginia_Arlington_Washington-Lee_24-5.png\n",
      "dataset\\faces_2\\2013_Virginia_Arlington_Washington-Lee_24-6.png\n",
      "dataset\\faces_2\\2013_Virginia_Arlington_Washington-Lee_24-7.png\n",
      "dataset\\faces_2\\2013_Virginia_Arlington_Washington-Lee_24-8.png\n",
      "dataset\\faces_2\\2013_Virginia_Arlington_Washington-Lee_25-00.png\n",
      "dataset\\faces_2\\2013_Virginia_Arlington_Washington-Lee_25-01.png\n",
      "dataset\\faces_2\\2013_Virginia_Arlington_Washington-Lee_25-02.png\n",
      "dataset\\faces_2\\2013_Virginia_Arlington_Washington-Lee_25-03.png\n",
      "dataset\\faces_2\\2013_Virginia_Arlington_Washington-Lee_25-1.png\n",
      "dataset\\faces_2\\2013_Virginia_Arlington_Washington-Lee_25-10.png\n",
      "dataset\\faces_2\\2013_Virginia_Arlington_Washington-Lee_25-11.png\n",
      "dataset\\faces_2\\2013_Virginia_Arlington_Washington-Lee_25-2.png\n",
      "dataset\\faces_2\\2013_Virginia_Arlington_Washington-Lee_25-3.png\n",
      "dataset\\faces_2\\2013_Virginia_Arlington_Washington-Lee_25-4.png\n",
      "dataset\\faces_2\\2013_Virginia_Arlington_Washington-Lee_25-5.png\n",
      "dataset\\faces_2\\2013_Virginia_Arlington_Washington-Lee_25-6.png\n",
      "dataset\\faces_2\\2013_Virginia_Arlington_Washington-Lee_25-8.png\n",
      "dataset\\faces_2\\2013_Virginia_Arlington_Washington-Lee_26-0.png\n",
      "dataset\\faces_2\\2013_Virginia_Arlington_Washington-Lee_26-01.png\n",
      "dataset\\faces_2\\2013_Virginia_Arlington_Washington-Lee_26-03.png\n",
      "dataset\\faces_2\\2013_Virginia_Arlington_Washington-Lee_26-04.png\n",
      "dataset\\faces_2\\2013_Virginia_Arlington_Washington-Lee_26-06.png\n",
      "dataset\\faces_2\\2013_Virginia_Arlington_Washington-Lee_26-08.png\n",
      "dataset\\faces_2\\2013_Virginia_Arlington_Washington-Lee_26-2.png\n",
      "dataset\\faces_2\\2013_Virginia_Arlington_Washington-Lee_26-3.png\n",
      "dataset\\faces_2\\2013_Virginia_Arlington_Washington-Lee_27-01.png\n",
      "dataset\\faces_2\\2013_Virginia_Arlington_Washington-Lee_27-02.png\n",
      "dataset\\faces_2\\2013_Virginia_Arlington_Washington-Lee_27-10.png\n",
      "dataset\\faces_2\\2013_Virginia_Arlington_Washington-Lee_27-2.png\n",
      "dataset\\faces_2\\2013_Virginia_Arlington_Washington-Lee_27-3.png\n",
      "dataset\\faces_2\\2013_Virginia_Arlington_Washington-Lee_27-4.png\n",
      "dataset\\faces_2\\2013_Virginia_Arlington_Washington-Lee_27-5.png\n",
      "dataset\\faces_2\\2013_Virginia_Arlington_Washington-Lee_27-7.png\n",
      "dataset\\faces_2\\2013_Virginia_Arlington_Washington-Lee_27-8.png\n",
      "dataset\\faces_2\\2013_Virginia_Arlington_Washington-Lee_28-00.png\n",
      "dataset\\faces_2\\2013_Virginia_Arlington_Washington-Lee_28-01.png\n",
      "dataset\\faces_2\\2013_Virginia_Arlington_Washington-Lee_28-02.png\n",
      "dataset\\faces_2\\2013_Virginia_Arlington_Washington-Lee_28-04.png\n",
      "dataset\\faces_2\\2013_Virginia_Arlington_Washington-Lee_28-05.png\n",
      "dataset\\faces_2\\2013_Virginia_Arlington_Washington-Lee_28-06.png\n",
      "dataset\\faces_2\\2013_Virginia_Arlington_Washington-Lee_28-5.png\n",
      "dataset\\faces_2\\2013_Virginia_Arlington_Washington-Lee_28-6.png\n",
      "dataset\\faces_2\\2013_Virginia_Arlington_Washington-Lee_28-8.png\n",
      "dataset\\faces_2\\2013_Virginia_Arlington_Washington-Lee_3-0.png\n",
      "dataset\\faces_2\\2013_Virginia_Arlington_Washington-Lee_3-00.png\n",
      "dataset\\faces_2\\2013_Virginia_Arlington_Washington-Lee_3-02.png\n",
      "dataset\\faces_2\\2013_Virginia_Arlington_Washington-Lee_3-04.png\n",
      "dataset\\faces_2\\2013_Virginia_Arlington_Washington-Lee_3-06.png\n",
      "dataset\\faces_2\\2013_Virginia_Arlington_Washington-Lee_3-07.png\n",
      "dataset\\faces_2\\2013_Virginia_Arlington_Washington-Lee_3-09.png\n",
      "dataset\\faces_2\\2013_Virginia_Arlington_Washington-Lee_3-2.png\n",
      "dataset\\faces_2\\2013_Virginia_Arlington_Washington-Lee_3-3.png\n",
      "dataset\\faces_2\\2013_Virginia_Arlington_Washington-Lee_4-00.png\n",
      "dataset\\faces_2\\2013_Virginia_Arlington_Washington-Lee_4-01.png\n",
      "dataset\\faces_2\\2013_Virginia_Arlington_Washington-Lee_4-02.png\n",
      "dataset\\faces_2\\2013_Virginia_Arlington_Washington-Lee_4-03.png\n",
      "dataset\\faces_2\\2013_Virginia_Arlington_Washington-Lee_4-06.png\n",
      "dataset\\faces_2\\2013_Virginia_Arlington_Washington-Lee_4-07.png\n",
      "dataset\\faces_2\\2013_Virginia_Arlington_Washington-Lee_4-2.png\n",
      "dataset\\faces_2\\2013_Virginia_Arlington_Washington-Lee_4-4.png\n",
      "dataset\\faces_2\\2013_Virginia_Arlington_Washington-Lee_4-5.png\n",
      "dataset\\faces_2\\2013_Virginia_Arlington_Washington-Lee_4-7.png\n",
      "dataset\\faces_2\\2013_Virginia_Arlington_Washington-Lee_5-00.png\n",
      "dataset\\faces_2\\2013_Virginia_Arlington_Washington-Lee_5-01.png\n",
      "dataset\\faces_2\\2013_Virginia_Arlington_Washington-Lee_5-010.png\n",
      "dataset\\faces_2\\2013_Virginia_Arlington_Washington-Lee_5-03.png\n",
      "dataset\\faces_2\\2013_Virginia_Arlington_Washington-Lee_5-04.png\n",
      "dataset\\faces_2\\2013_Virginia_Arlington_Washington-Lee_5-05.png\n",
      "dataset\\faces_2\\2013_Virginia_Arlington_Washington-Lee_5-06.png\n",
      "dataset\\faces_2\\2013_Virginia_Arlington_Washington-Lee_5-07.png\n",
      "dataset\\faces_2\\2013_Virginia_Arlington_Washington-Lee_5-08.png\n",
      "dataset\\faces_2\\2013_Virginia_Arlington_Washington-Lee_5-09.png\n",
      "dataset\\faces_2\\2013_Virginia_Arlington_Washington-Lee_5-4.png\n",
      "dataset\\faces_2\\2013_Virginia_Arlington_Washington-Lee_6-00.png\n",
      "dataset\\faces_2\\2013_Virginia_Arlington_Washington-Lee_6-02.png\n",
      "dataset\\faces_2\\2013_Virginia_Arlington_Washington-Lee_6-03.png\n",
      "dataset\\faces_2\\2013_Virginia_Arlington_Washington-Lee_6-04.png\n",
      "dataset\\faces_2\\2013_Virginia_Arlington_Washington-Lee_6-3.png\n",
      "dataset\\faces_2\\2013_Virginia_Arlington_Washington-Lee_6-4.png\n",
      "dataset\\faces_2\\2013_Virginia_Arlington_Washington-Lee_6-5.png\n",
      "dataset\\faces_2\\2013_Virginia_Arlington_Washington-Lee_7-00.png\n",
      "dataset\\faces_2\\2013_Virginia_Arlington_Washington-Lee_7-01.png\n",
      "dataset\\faces_2\\2013_Virginia_Arlington_Washington-Lee_7-02.png\n",
      "dataset\\faces_2\\2013_Virginia_Arlington_Washington-Lee_7-03.png\n",
      "dataset\\faces_2\\2013_Virginia_Arlington_Washington-Lee_7-04.png\n",
      "dataset\\faces_2\\2013_Virginia_Arlington_Washington-Lee_7-05.png\n",
      "dataset\\faces_2\\2013_Virginia_Arlington_Washington-Lee_7-10.png\n",
      "dataset\\faces_2\\2013_Virginia_Arlington_Washington-Lee_7-2.png\n",
      "dataset\\faces_2\\2013_Virginia_Arlington_Washington-Lee_7-4.png\n",
      "dataset\\faces_2\\2013_Virginia_Arlington_Washington-Lee_7-5.png\n",
      "dataset\\faces_2\\2013_Virginia_Arlington_Washington-Lee_7-6.png\n",
      "dataset\\faces_2\\2013_Virginia_Arlington_Washington-Lee_7-8.png\n",
      "dataset\\faces_2\\2013_Virginia_Arlington_Washington-Lee_7-9.png\n",
      "dataset\\faces_2\\2013_Virginia_Arlington_Washington-Lee_8-00.png\n",
      "dataset\\faces_2\\2013_Virginia_Arlington_Washington-Lee_8-01.png\n",
      "dataset\\faces_2\\2013_Virginia_Arlington_Washington-Lee_8-02.png\n",
      "dataset\\faces_2\\2013_Virginia_Arlington_Washington-Lee_8-1.png\n",
      "dataset\\faces_2\\2013_Virginia_Arlington_Washington-Lee_8-10.png\n",
      "dataset\\faces_2\\2013_Virginia_Arlington_Washington-Lee_8-11.png\n",
      "dataset\\faces_2\\2013_Virginia_Arlington_Washington-Lee_8-2.png\n",
      "dataset\\faces_2\\2013_Virginia_Arlington_Washington-Lee_8-3.png\n",
      "dataset\\faces_2\\2013_Virginia_Arlington_Washington-Lee_8-5.png\n",
      "dataset\\faces_2\\2013_Virginia_Arlington_Washington-Lee_8-6.png\n",
      "dataset\\faces_2\\2013_Virginia_Arlington_Washington-Lee_8-7.png\n",
      "dataset\\faces_2\\2013_Virginia_Arlington_Washington-Lee_8-8.png\n",
      "dataset\\faces_2\\2013_Virginia_Arlington_Washington-Lee_9-00.png\n",
      "dataset\\faces_2\\2013_Virginia_Arlington_Washington-Lee_9-01.png\n",
      "dataset\\faces_2\\2013_Virginia_Arlington_Washington-Lee_9-02.png\n",
      "dataset\\faces_2\\2013_Virginia_Arlington_Washington-Lee_9-03.png\n",
      "dataset\\faces_2\\2013_Virginia_Arlington_Washington-Lee_9-04.png\n",
      "dataset\\faces_2\\2013_Virginia_Arlington_Washington-Lee_9-05.png\n",
      "dataset\\faces_2\\2013_Virginia_Arlington_Washington-Lee_9-06.png\n",
      "dataset\\faces_2\\2013_Virginia_Arlington_Washington-Lee_9-2.png\n",
      "dataset\\faces_2\\2013_Virginia_Arlington_Washington-Lee_9-4.png\n",
      "dataset\\faces_2\\2013_Virginia_Arlington_Washington-Lee_9-5.png\n",
      "dataset\\faces_2\\2013_Virginia_Arlington_Washington-Lee_9-6.png\n",
      "dataset\\faces_2\\2013_Virginia_Arlington_Washington-Lee_9-7.png\n",
      "dataset\\faces_2\\2013_Virginia_Arlington_Washington-Lee_9-8.png\n",
      "dataset\\faces_2\\2013_Virginia_Arlington_Washington-Lee_9-9.png\n",
      "dataset\\background2_2\\6000203.jpg\n",
      "dataset\\background2_2\\6000204.jpg\n",
      "dataset\\background2_2\\6000205.jpg\n",
      "dataset\\background2_2\\6000206.jpg\n",
      "dataset\\background2_2\\6000207.jpg\n",
      "dataset\\background2_2\\6000208.jpg\n",
      "dataset\\background2_2\\6000209.jpg\n",
      "dataset\\background2_2\\6000210.jpg\n",
      "dataset\\background2_2\\6000211.jpg\n",
      "dataset\\background2_2\\6000212.jpg\n",
      "dataset\\background2_2\\6000213.jpg\n",
      "dataset\\background2_2\\6000214.jpg\n",
      "dataset\\background2_2\\6000215.jpg\n",
      "dataset\\background2_2\\6000216.jpg\n",
      "dataset\\background2_2\\6000217.jpg\n",
      "dataset\\background2_2\\6000218.jpg\n",
      "dataset\\background2_2\\6000219.jpg\n",
      "dataset\\background2_2\\6000220.jpg\n",
      "dataset\\background2_2\\6000221.jpg\n",
      "dataset\\background2_2\\6000222.jpg\n",
      "dataset\\background2_2\\6000223.jpg\n",
      "dataset\\background2_2\\6000224.jpg\n",
      "dataset\\background2_2\\6000225.jpg\n",
      "dataset\\background2_2\\6000226.jpg\n",
      "dataset\\background2_2\\6000227.jpg\n",
      "dataset\\background2_2\\6000228.jpg\n",
      "dataset\\background2_2\\6000229.jpg\n",
      "dataset\\background2_2\\6000230.jpg\n",
      "dataset\\background2_2\\6000231.jpg\n",
      "dataset\\background2_2\\6000232.jpg\n",
      "dataset\\background2_2\\6000233.jpg\n",
      "dataset\\background2_2\\6000234.jpg\n"
     ]
    }
   ],
   "source": [
    "directories = ['dataset\\\\faces_2','dataset\\\\background2_2']\n",
    "allFeatures_face = []\n",
    "allFeatures_background = []\n",
    "# lables = []\n",
    "for i in range(2):\n",
    "    directory = directories[i]\n",
    "    for filename in os.listdir(directory):\n",
    "        f = os.path.join(directory, filename)\n",
    "        if os.path.isfile(f):\n",
    "            print(f)\n",
    "            image = preProcessing(f)\n",
    "            normalized_integral = toIntegral((image))\n",
    "            feature2h = list(HorizontalFeature2(location.left, location.top, shape.width, shape.height)(normalized_integral)\n",
    "                 for shape in possible_shapes(Size(height=1, width=2), WINDOW_SIZE)\n",
    "                 for location in possible_locations(shape, WINDOW_SIZE))\n",
    "\n",
    "            feature2v = list(VerticalFeature2(location.left, location.top, shape.width, shape.height)(normalized_integral)\n",
    "                 for shape in possible_shapes(Size(height=2, width=1), WINDOW_SIZE)\n",
    "                 for location in possible_locations(shape, WINDOW_SIZE))\n",
    "\n",
    "            feature3h = list(HorizontalFeature2(location.left, location.top, shape.width, shape.height)(normalized_integral)\n",
    "                 for shape in possible_shapes(Size(height=1, width=3), WINDOW_SIZE)\n",
    "                 for location in possible_locations(shape, WINDOW_SIZE))\n",
    "\n",
    "            feature3v = list(VerticalFeature3(location.left, location.top, shape.width, shape.height)(normalized_integral)\n",
    "                 for shape in possible_shapes(Size(height=3, width=1), WINDOW_SIZE)\n",
    "                 for location in possible_locations(shape, WINDOW_SIZE))\n",
    "\n",
    "            feature4  = list(DiagonalFeature(location.left, location.top, shape.width, shape.height)(normalized_integral)\n",
    "                 for shape in possible_shapes(Size(height=2, width=2), WINDOW_SIZE)\n",
    "                 for location in possible_locations(shape, WINDOW_SIZE))\n",
    "\n",
    "            features = feature2h + feature2v + feature3h + feature3v + feature4\n",
    "            if (i):\n",
    "               allFeatures_background.append(features)\n",
    "            else:\n",
    "               allFeatures_face.append(features)  \n",
    "\n",
    "          #   allFeatures.append(features)   \n",
    "          #   lables.append(i)\n",
    "            \n"
   ]
  },
  {
   "cell_type": "code",
   "execution_count": null,
   "metadata": {},
   "outputs": [],
   "source": [
    "faceLenght = round(len(allFeatures_face)*0.8)\n",
    "backgroundLenght = round(len(allFeatures_background)*0.8)"
   ]
  },
  {
   "cell_type": "code",
   "execution_count": null,
   "metadata": {},
   "outputs": [],
   "source": [
    "face_train = allFeatures_face[0:faceLenght]\n",
    "background_train = allFeatures_background[0:backgroundLenght]\n",
    "\n",
    "\n",
    "face_test = allFeatures_face[faceLenght:]\n",
    "background_test = allFeatures_background[backgroundLenght:]"
   ]
  },
  {
   "cell_type": "code",
   "execution_count": null,
   "metadata": {},
   "outputs": [],
   "source": [
    "x_train = face_train + background_train\n",
    "y_train = [0]*len(face_train)   +   [1]*len(background_train)"
   ]
  },
  {
   "cell_type": "code",
   "execution_count": null,
   "metadata": {},
   "outputs": [],
   "source": [
    "x_test = face_test + background_test\n",
    "y_test = [0]*len(face_test)   +   [1]*len(background_test)"
   ]
  },
  {
   "cell_type": "code",
   "execution_count": null,
   "metadata": {},
   "outputs": [],
   "source": [
    "# Create adaboost classifer object\n",
    "abc = AdaBoostClassifier( n_estimators=50,learning_rate=1)\n",
    "# Train Adaboost Classifer\n",
    "model = abc.fit(x_train, y_train)\n",
    "\n"
   ]
  },
  {
   "cell_type": "code",
   "execution_count": null,
   "metadata": {},
   "outputs": [
    {
     "name": "stdout",
     "output_type": "stream",
     "text": [
      "109\n"
     ]
    }
   ],
   "source": [
    "#Predict the response for test dataset\n",
    "y_pred = model.predict(x_test)\n",
    "\n",
    "print(len(y_pred))"
   ]
  },
  {
   "cell_type": "code",
   "execution_count": null,
   "metadata": {},
   "outputs": [
    {
     "data": {
      "text/plain": [
       "0.9541284403669725"
      ]
     },
     "execution_count": 31,
     "metadata": {},
     "output_type": "execute_result"
    }
   ],
   "source": [
    "accuracy_score(y_test, y_pred, normalize=True)"
   ]
  },
  {
   "cell_type": "code",
   "execution_count": null,
   "metadata": {},
   "outputs": [
    {
     "name": "stdout",
     "output_type": "stream",
     "text": [
      "109\n"
     ]
    }
   ],
   "source": [
    "print (len(y_test))"
   ]
  },
  {
   "cell_type": "code",
   "execution_count": null,
   "metadata": {},
   "outputs": [],
   "source": [
    "def get_features(windowIntegral):\n",
    "    feature2h = list(HorizontalFeature2(location.left, location.top, shape.width, shape.height)(windowIntegral)\n",
    "                 for shape in possible_shapes(Size(height=1, width=2), WINDOW_SIZE)\n",
    "                 for location in possible_locations(shape, WINDOW_SIZE))\n",
    "\n",
    "    feature2v = list(VerticalFeature2(location.left, location.top, shape.width, shape.height)(windowIntegral)\n",
    "                 for shape in possible_shapes(Size(height=2, width=1), WINDOW_SIZE)\n",
    "                 for location in possible_locations(shape, WINDOW_SIZE))\n",
    "\n",
    "    feature3h = list(HorizontalFeature2(location.left, location.top, shape.width, shape.height)(windowIntegral)\n",
    "                 for shape in possible_shapes(Size(height=1, width=3), WINDOW_SIZE)\n",
    "                 for location in possible_locations(shape, WINDOW_SIZE))\n",
    "\n",
    "    feature3v = list(VerticalFeature3(location.left, location.top, shape.width, shape.height)(windowIntegral)\n",
    "                 for shape in possible_shapes(Size(height=3, width=1), WINDOW_SIZE)\n",
    "                 for location in possible_locations(shape, WINDOW_SIZE))\n",
    "\n",
    "    feature4  = list(DiagonalFeature(location.left, location.top, shape.width, shape.height)(windowIntegral)\n",
    "                 for shape in possible_shapes(Size(height=2, width=2), WINDOW_SIZE)\n",
    "                 for location in possible_locations(shape, WINDOW_SIZE))\n",
    "\n",
    "    features = feature2h + feature2v + feature3h + feature3v + feature4\n",
    "    return features"
   ]
  },
  {
   "cell_type": "code",
   "execution_count": null,
   "metadata": {},
   "outputs": [],
   "source": [
    "def sample_data(p: int, n: int) -> Tuple[np.ndarray, np.ndarray]:\n",
    "    xs = []\n",
    "    xs.extend([to_float_array(preProcessing(f)) for f in random.sample(face_image_files, p)])\n",
    "    xs.extend([to_float_array(preProcessing(f)) for f in np.random.choice(background_image_files, n, replace=True)])\n",
    "\n",
    "    ys = np.hstack([np.ones((p,)), np.zeros((n,))])\n",
    "    return np.array(xs), ys"
   ]
  },
  {
   "cell_type": "code",
   "execution_count": null,
   "metadata": {},
   "outputs": [],
   "source": [
    "image_samples, _ = sample_data(100, 100)\n",
    "\n",
    "sample_mean = image_samples.mean()\n",
    "sample_std = image_samples.std()"
   ]
  },
  {
   "cell_type": "code",
   "execution_count": null,
   "metadata": {},
   "outputs": [],
   "source": [
    "def normalize(im: np.ndarray, mean: float = sample_mean, std: float = sample_std) -> np.ndarray:\n",
    "    return (im - mean) / std"
   ]
  },
  {
   "cell_type": "code",
   "execution_count": null,
   "metadata": {},
   "outputs": [],
   "source": [
    "def predic_face(img):\n",
    "   # normalized_integral = toIntegral(img)\n",
    "    rows, cols = toIntegral(img).shape[0:2]\n",
    "    HALF_WINDOW = WINDOW_SIZE // 2\n",
    "\n",
    "    \n",
    "    face_positions_3 = []\n",
    "\n",
    "   # normalized_integral = to_integral(normalize(grayscale))\n",
    "    normalized_integral = toIntegral(normalize(img))\n",
    "    print(rows, cols)\n",
    "    for row in range(HALF_WINDOW + 1, rows - HALF_WINDOW, 8):\n",
    "        for col in range(HALF_WINDOW + 1, cols - HALF_WINDOW, 8):\n",
    "            \n",
    "            window = normalized_integral[row-HALF_WINDOW-1:row+HALF_WINDOW+1, col-HALF_WINDOW-1:col+HALF_WINDOW+1]\n",
    "            windowFeatures = get_features(window)   \n",
    "            isFace = model.predict([windowFeatures]) \n",
    "            # print(isFace)  \n",
    "            if (isFace[0] == 0):\n",
    "                face_positions_3.append((row, col))\n",
    "            #     return row, col, ((row+HALF_WINDOW+1) - (row-HALF_WINDOW-1))\n",
    "    return face_positions_3              \n",
    "            "
   ]
  },
  {
   "cell_type": "code",
   "execution_count": null,
   "metadata": {},
   "outputs": [
    {
     "data": {
      "image/png": "[encoded data removed]",
      "text/plain": [
       "<Figure size 864x720 with 1 Axes>"
      ]
     },
     "metadata": {
      "needs_background": "light"
     },
     "output_type": "display_data"
    }
   ],
   "source": [
    "salah_img = preProcessing(face_image_files[3])\n",
    "\n",
    "display(salah_img)"
   ]
  },
  {
   "cell_type": "code",
   "execution_count": null,
   "metadata": {},
   "outputs": [
    {
     "name": "stdout",
     "output_type": "stream",
     "text": [
      "101 121\n"
     ]
    }
   ],
   "source": [
    "face_position = predic_face(salah_img)"
   ]
  },
  {
   "cell_type": "code",
   "execution_count": null,
   "metadata": {},
   "outputs": [],
   "source": [
    "HALF_WINDOW = 50\n",
    "# HALF_WINDOW = WINDOW_SIZE // 2"
   ]
  },
  {
   "cell_type": "code",
   "execution_count": null,
   "metadata": {},
   "outputs": [],
   "source": [
    "def to_image(values: np.ndarray) -> Image.Image:\n",
    "    return Image.fromarray(np.uint8(values * 255.))"
   ]
  },
  {
   "cell_type": "code",
   "execution_count": null,
   "metadata": {},
   "outputs": [],
   "source": [
    "def render_candidates(image: Image.Image, candidates: List[Tuple[int, int]]) -> Image.Image:\n",
    "    canvas = to_float_array(image.copy())\n",
    "    for row, col in candidates:\n",
    "        canvas[row-HALF_WINDOW-1:row+HALF_WINDOW, col-HALF_WINDOW-1, :] = [1., 0., 0.]\n",
    "        canvas[row-HALF_WINDOW-1:row+HALF_WINDOW, col+HALF_WINDOW-1, :] = [1., 0., 0.]\n",
    "        canvas[row-HALF_WINDOW-1, col-HALF_WINDOW-1:col+HALF_WINDOW, :] = [1., 0., 0.]\n",
    "        canvas[row+HALF_WINDOW-1, col-HALF_WINDOW-1:col+HALF_WINDOW, :] = [1., 0., 0.]\n",
    "    return to_image(canvas)"
   ]
  },
  {
   "cell_type": "code",
   "execution_count": null,
   "metadata": {},
   "outputs": [],
   "source": [
    "# import numpy as np\n",
    "\n",
    "# def non_maximum_supression(regions,half_window,threshold=0.5,):\n",
    "#     # Code from: https://www.pyimagesearch.com/2015/02/16/faster-non-maximum-suppression-python/\n",
    "#     # if there are no boxes, return an empty list\n",
    "#     boxes = np.array(regions)\n",
    "#     if len(boxes) == 0:\n",
    "#         return []\n",
    "\n",
    "#     # if the bounding boxes integers, convert them to floats --\n",
    "#     # this is important since we'll be doing a bunch of divisions\n",
    "#     if boxes.dtype.kind == \"i\":\n",
    "#         boxes = boxes.astype(\"float\")\n",
    "\n",
    "#     # initialize the list of picked indexes\n",
    "#     pick = []\n",
    "\n",
    "#     # grab the coordinates of the bounding boxes\n",
    "#     x1 = boxes[:, 0]-half_window-1\n",
    "#     y1 = boxes[:, 1]-half_window-1\n",
    "#     x2 = boxes[:, 0]+half_window\n",
    "#     y2 = boxes[:, 1]+half_window\n",
    "\n",
    "#     # compute the area of the bounding boxes and sort the bounding\n",
    "#     # boxes by the bottom-right y-coordinate of the bounding box\n",
    "#     area = (x2 - x1 + 1) * (y2 - y1 + 1)\n",
    "#     idxs = np.argsort(y2)\n",
    "\n",
    "#     # keep looping while some indexes still remain in the indexes\n",
    "#     # list\n",
    "#     while len(idxs) > 0:\n",
    "#         # grab the last index in the indexes list and add the\n",
    "#         # index value to the list of picked indexes\n",
    "#         last = len(idxs) - 1\n",
    "#         i = idxs[last]\n",
    "#         pick.append(i)\n",
    "\n",
    "#         # find the largest (x, y) coordinates for the start of\n",
    "#         # the bounding box and the smallest (x, y) coordinates\n",
    "#         # for the end of the bounding box\n",
    "#         xx1 = np.maximum(x1[i], x1[idxs[:last]])\n",
    "#         yy1 = np.maximum(y1[i], y1[idxs[:last]])\n",
    "#         xx2 = np.minimum(x2[i], x2[idxs[:last]])\n",
    "#         yy2 = np.minimum(y2[i], y2[idxs[:last]])\n",
    "\n",
    "#         # compute the width and height of the bounding box\n",
    "#         w = np.maximum(0, xx2 - xx1 + 1)\n",
    "#         h = np.maximum(0, yy2 - yy1 + 1)\n",
    "\n",
    "#         # compute the ratio of overlap\n",
    "#         overlap = (w * h) / area[idxs[:last]]\n",
    "\n",
    "#         # delete all indexes from the index list that have\n",
    "#         idxs = np.delete(idxs, np.concatenate(([last],\n",
    "#                                                np.where(overlap > threshold)[0])))\n",
    "\n",
    "#     # return only the bounding boxes that were picked using the\n",
    "#     # integer data type\n",
    "#     return boxes[pick].astype(\"int\")"
   ]
  },
  {
   "cell_type": "code",
   "execution_count": null,
   "metadata": {},
   "outputs": [],
   "source": [
    "def non_max_suppression_fast(boxes, overlapThresh):\n",
    "\t# if there are no boxes, return an empty list\n",
    "\tif len(boxes) == 0:\n",
    "\t\treturn []\n",
    "\t# if the bounding boxes integers, convert them to floats --\n",
    "\t# this is important since we'll be doing a bunch of divisions\n",
    "\tif boxes.dtype.kind == \"i\":\n",
    "\t\tboxes = boxes.astype(\"float\")\n",
    "\t# initialize the list of picked indexes\t\n",
    "\tpick = []\n",
    "\t# grab the coordinates of the bounding boxes\n",
    "\tx1 = boxes[:,0]\n",
    "\ty1 = boxes[:,1]\n",
    "\tx2 = boxes[:,2]\n",
    "\ty2 = boxes[:,3]\n",
    "\t# compute the area of the bounding boxes and sort the bounding\n",
    "\t# boxes by the bottom-right y-coordinate of the bounding box\n",
    "\tarea = (x2 - x1 + 1) * (y2 - y1 + 1)\n",
    "\tidxs = np.argsort(y2)\n",
    "\t# keep looping while some indexes still remain in the indexes\n",
    "\t# list\n",
    "\twhile len(idxs) > 0:\n",
    "\t\t# grab the last index in the indexes list and add the\n",
    "\t\t# index value to the list of picked indexes\n",
    "\t\tlast = len(idxs) - 1\n",
    "\t\ti = idxs[last]\n",
    "\t\tpick.append(i)\n",
    "\t\t# find the largest (x, y) coordinates for the start of\n",
    "\t\t# the bounding box and the smallest (x, y) coordinates\n",
    "\t\t# for the end of the bounding box\n",
    "\t\txx1 = np.maximum(x1[i], x1[idxs[:last]])\n",
    "\t\tyy1 = np.maximum(y1[i], y1[idxs[:last]])\n",
    "\t\txx2 = np.minimum(x2[i], x2[idxs[:last]])\n",
    "\t\tyy2 = np.minimum(y2[i], y2[idxs[:last]])\n",
    "\t\t# compute the width and height of the bounding box\n",
    "\t\tw = np.maximum(0, xx2 - xx1 + 1)\n",
    "\t\th = np.maximum(0, yy2 - yy1 + 1)\n",
    "\t\t# compute the ratio of overlap\n",
    "\t\toverlap = (w * h) / area[idxs[:last]]\n",
    "\t\t# delete all indexes from the index list that have\n",
    "\t\tidxs = np.delete(idxs, np.concatenate(([last],\n",
    "\t\t\tnp.where(overlap > overlapThresh)[0])))\n",
    "\t# return only the bounding boxes that were picked using the\n",
    "\t# integer data type\n",
    "\treturn boxes[pick].astype(\"int\")"
   ]
  },
  {
   "cell_type": "code",
   "execution_count": null,
   "metadata": {},
   "outputs": [
    {
     "data": {
      "image/png": "[encoded data removed]",
      "text/plain": [
       "<PIL.Image.Image image mode=RGB size=186x171 at 0x2836BE0C550>"
      ]
     },
     "execution_count": 62,
     "metadata": {},
     "output_type": "execute_result"
    }
   ],
   "source": [
    "#def non_maximum_supression(regions,half_window,threshold=0.5,):\n",
    "test_img = cv2.imread(face_image_files[5], cv2.IMREAD_COLOR)\n",
    "# face_position=non_maximum_supression(face_position,HALF_WINDOW,0.5)\n",
    "face_position= non_maximum_supression(face_position,0.3)\n",
    "render_candidates(test_img, face_position)"
   ]
  },
  {
   "cell_type": "code",
   "execution_count": null,
   "metadata": {},
   "outputs": [],
   "source": []
  },
  {
   "cell_type": "code",
   "execution_count": null,
   "metadata": {},
   "outputs": [],
   "source": []
  }
 ],
 "metadata": {
  "kernelspec": {
   "display_name": "base",
   "language": "python",
   "name": "python3"
  },
  "language_info": {
   "codemirror_mode": {
    "name": "ipython",
    "version": 3
   },
   "file_extension": ".py",
   "mimetype": "text/x-python",
   "name": "python",
   "nbconvert_exporter": "python",
   "pygments_lexer": "ipython3",
   "version": "3.9.12"
  },
  "orig_nbformat": 4,
  "vscode": {
   "interpreter": {
    "hash": "690fcc030dbde6f3f652c519b06a0d95da528e66105ed58c88e506e5818277cb"
   }
  }
 },
 "nbformat": 4,
 "nbformat_minor": 2
}
