{
 "cells": [
  {
   "cell_type": "code",
   "execution_count": 1,
   "metadata": {},
   "outputs": [],
   "source": [
    "import numpy as np\n",
    "import matplotlib.pyplot as plt\n",
    "%matplotlib inline\n",
    "import cv2\n",
    "import os\n",
    "import math\n",
    "import re"
   ]
  },
  {
   "cell_type": "code",
   "execution_count": 2,
   "metadata": {},
   "outputs": [],
   "source": [
    "def display(img, cmap='gray'):\n",
    "    fig = plt.figure(figsize=(12,10))\n",
    "    ax = fig.add_subplot(111)\n",
    "    ax.imshow(img, cmap='gray')"
   ]
  },
  {
   "cell_type": "code",
   "execution_count": 3,
   "metadata": {},
   "outputs": [],
   "source": [
    "def gammaCorrection(img, coeff):\n",
    "    return img**(1./coeff)"
   ]
  },
  {
   "cell_type": "code",
   "execution_count": 4,
   "metadata": {},
   "outputs": [],
   "source": [
    "training_img_dirs = os.listdir('data-set')\n",
    "training_set_length = len(training_img_dirs)"
   ]
  },
  {
   "cell_type": "code",
   "execution_count": 5,
   "metadata": {},
   "outputs": [],
   "source": [
    "trainingImages = np.zeros((training_set_length,200, 200))"
   ]
  },
  {
   "cell_type": "code",
   "execution_count": 6,
   "metadata": {},
   "outputs": [],
   "source": [
    "vecsTrans = np.zeros((training_set_length, 40000))\n",
    "tempVecs = np.zeros((1 , 40000))\n",
    "for i in range(training_set_length):\n",
    "    trainingImages[i] =  cv2.imread('data-set/'+training_img_dirs[i], 0)\n",
    "    vecsTrans[i] = np.asarray(trainingImages[i]).reshape( 1 , 40000)\n",
    "    tempVecs = tempVecs + ((1/training_set_length) * vecsTrans[i])"
   ]
  },
  {
   "cell_type": "code",
   "execution_count": 7,
   "metadata": {},
   "outputs": [],
   "source": [
    "for i in range(training_set_length):\n",
    "    vecsTrans[i] = vecsTrans[i] - tempVecs"
   ]
  },
  {
   "cell_type": "code",
   "execution_count": 8,
   "metadata": {},
   "outputs": [],
   "source": [
    "vecs = vecsTrans.transpose()\n",
    "# print (vecs.shape)"
   ]
  },
  {
   "cell_type": "code",
   "execution_count": 9,
   "metadata": {},
   "outputs": [],
   "source": [
    "cov = np.dot(vecsTrans,vecs)\n",
    "cov = cov/training_set_length"
   ]
  },
  {
   "cell_type": "code",
   "execution_count": 10,
   "metadata": {},
   "outputs": [],
   "source": [
    "w, v = np.linalg.eig(cov)\n",
    "newEigenVec = np.zeros((training_set_length, 40000))\n",
    "for i in range(training_set_length):\n",
    "    temp = np.dot(vecs, v[i])\n",
    "    newEigenVec[i] = temp\n",
    "    #newEigenVec[i] = temp*(1/np.linalg.norm(temp))             # notmalize the vector"
   ]
  },
  {
   "cell_type": "code",
   "execution_count": 11,
   "metadata": {},
   "outputs": [],
   "source": [
    "# sortedEigenVect = [0]*training_set_length\n",
    "# for i in range(v.shape[0]):\n",
    "#     sortedEigenVect[i] = np.append(v[i], w[i])"
   ]
  },
  {
   "cell_type": "code",
   "execution_count": 12,
   "metadata": {},
   "outputs": [],
   "source": [
    "# def sortLast(val):\n",
    "#     return val[-1] "
   ]
  },
  {
   "cell_type": "code",
   "execution_count": 13,
   "metadata": {},
   "outputs": [],
   "source": [
    "# sortedEigenVect.sort(key=sortLast,reverse=True)"
   ]
  },
  {
   "cell_type": "code",
   "execution_count": 14,
   "metadata": {},
   "outputs": [],
   "source": [
    "wArr = np.zeros((training_set_length,training_set_length))\n",
    "for i in range(training_set_length):\n",
    "    for j in range(training_set_length):\n",
    "        wArr[i][j] = np.dot(newEigenVec[j] , vecsTrans[i].transpose())"
   ]
  },
  {
   "cell_type": "code",
   "execution_count": 15,
   "metadata": {},
   "outputs": [
    {
     "name": "stdout",
     "output_type": "stream",
     "text": [
      "608857715.6563683\n"
     ]
    }
   ],
   "source": [
    "maxDistanceArr = []\n",
    "for i in range(training_set_length):\n",
    "    for j in range (i+1 , training_set_length):\n",
    "        maxDistanceArr.append(np.linalg.norm(wArr[i] - wArr[j]))\n",
    "maxDistance = max(maxDistanceArr)/2\n",
    "print (maxDistance)"
   ]
  },
  {
   "cell_type": "code",
   "execution_count": 16,
   "metadata": {},
   "outputs": [],
   "source": [
    "\n",
    "detector = cv2.CascadeClassifier('lbpcascade_frontalface.xml')"
   ]
  },
  {
   "cell_type": "code",
   "execution_count": 17,
   "metadata": {},
   "outputs": [],
   "source": [
    "def detect_face(img, text):\n",
    "    face_img=img.copy()\n",
    "    face_rects = detector.detectMultiScale(face_img)\n",
    "    cropped_imgs=[]\n",
    "    for (x,y,w,h) in face_rects:\n",
    "        image = cv2.rectangle(face_img,(x,y),(x+w,y+h),(255,255,255),10)\n",
    "        if (text == 'not recognized'):\n",
    "            cv2.putText(image, text, (x, y-10), cv2.FONT_HERSHEY_SIMPLEX, 0.9, (0,0,255), 2)\n",
    "        else:\n",
    "            cv2.putText(image, text, (x, y-10), cv2.FONT_HERSHEY_SIMPLEX, 0.9, (0,255,0), 2)    \n",
    "        cropped_imgs.append(img[y:y+h,x:x+w])\n",
    "    return face_img , cropped_imgs\n"
   ]
  },
  {
   "cell_type": "code",
   "execution_count": 18,
   "metadata": {},
   "outputs": [],
   "source": [
    "def recognize_face(img):\n",
    "    imgVec = np.asarray(img).reshape( 1 , 40000)\n",
    "    phayNew = (imgVec - tempVecs).transpose()\n",
    "    wNew = np.zeros((training_set_length))\n",
    "    for i in range(training_set_length):\n",
    "        wNew[i] = np.dot(newEigenVec[i] , phayNew)\n",
    "    min = np.linalg.norm(wNew - wArr[0])  \n",
    "    minIndex = 0\n",
    "    for i in range (1 , training_set_length):\n",
    "        result = np.linalg.norm(wNew - wArr[i])\n",
    "        if (result < min):\n",
    "            min = result\n",
    "            minIndex = i  \n",
    "\n",
    "    if (min <= maxDistance):  \n",
    "        #print(min)     \n",
    "        return minIndex     \n",
    "    return -1       "
   ]
  },
  {
   "cell_type": "code",
   "execution_count": 19,
   "metadata": {},
   "outputs": [],
   "source": [
    "# Function to prepare the name of the person by removing the image extention from the string\n",
    "def face_name(str):\n",
    "    pattern = r'[0-9]'\n",
    "    new_string = re.sub(pattern, '', str)\n",
    "    return new_string[:-4]"
   ]
  },
  {
   "cell_type": "code",
   "execution_count": 20,
   "metadata": {},
   "outputs": [],
   "source": [
    "vid = cv2.VideoCapture(0)\n",
    "text = 'not recognized'\n",
    "while(True):\n",
    "      \n",
    "\n",
    "    ret, frame = vid.read(0)\n",
    "    \n",
    "    frame , imgs =detect_face(frame, text)\n",
    "    cv2.imshow('frame', frame)\n",
    "    if (len(imgs) > 0):\n",
    "        resized_img = cv2.resize(imgs[0], (200, 200), interpolation = cv2.INTER_AREA)\n",
    "        last =cv2.cvtColor(resized_img,cv2.COLOR_BGR2GRAY)\n",
    "        index = recognize_face(last)\n",
    "        if (index != -1):\n",
    "            text = face_name(training_img_dirs[index])\n",
    "            #text = training_img_dirs[index]\n",
    "        else:\n",
    "            text = \"not recognized\"    \n",
    "    # press q to exit\n",
    "    if cv2.waitKey(1) & 0xFF == ord('q'):\n",
    "        break\n",
    "  \n",
    "# Destroy all the windows\n",
    "cv2.destroyAllWindows()\n",
    "# After the loop release the cap object\n",
    "vid.release()\n",
    "\n"
   ]
  },
  {
   "cell_type": "code",
   "execution_count": null,
   "metadata": {},
   "outputs": [],
   "source": []
  }
 ],
 "metadata": {
  "kernelspec": {
   "display_name": "python-cvcourse",
   "language": "python",
   "name": "python3"
  },
  "language_info": {
   "codemirror_mode": {
    "name": "ipython",
    "version": 3
   },
   "file_extension": ".py",
   "mimetype": "text/x-python",
   "name": "python",
   "nbconvert_exporter": "python",
   "pygments_lexer": "ipython3",
   "version": "3.6.6"
  },
  "orig_nbformat": 4,
  "vscode": {
   "interpreter": {
    "hash": "aa27e9c382af27ffc7f95dfc851fc303a5a7c579f08f3bcde9866653f4510f4a"
   }
  }
 },
 "nbformat": 4,
 "nbformat_minor": 2
}
